{
 "cells": [
  {
   "cell_type": "code",
   "execution_count": 1,
   "id": "20d056d6",
   "metadata": {},
   "outputs": [
    {
     "name": "stdout",
     "output_type": "stream",
     "text": [
      "Requirement already satisfied: torch in ./.venv/lib/python3.10/site-packages (2.7.0)\n",
      "Requirement already satisfied: torch-geometric in ./.venv/lib/python3.10/site-packages (2.6.1)\n",
      "Requirement already satisfied: filelock in ./.venv/lib/python3.10/site-packages (from torch) (3.18.0)\n",
      "Requirement already satisfied: typing-extensions>=4.10.0 in ./.venv/lib/python3.10/site-packages (from torch) (4.13.2)\n",
      "Requirement already satisfied: sympy>=1.13.3 in ./.venv/lib/python3.10/site-packages (from torch) (1.14.0)\n",
      "Requirement already satisfied: networkx in ./.venv/lib/python3.10/site-packages (from torch) (3.4.2)\n",
      "Requirement already satisfied: jinja2 in ./.venv/lib/python3.10/site-packages (from torch) (3.1.6)\n",
      "Requirement already satisfied: fsspec in ./.venv/lib/python3.10/site-packages (from torch) (2025.3.2)\n",
      "Requirement already satisfied: nvidia-cuda-nvrtc-cu12==12.6.77 in ./.venv/lib/python3.10/site-packages (from torch) (12.6.77)\n",
      "Requirement already satisfied: nvidia-cuda-runtime-cu12==12.6.77 in ./.venv/lib/python3.10/site-packages (from torch) (12.6.77)\n",
      "Requirement already satisfied: nvidia-cuda-cupti-cu12==12.6.80 in ./.venv/lib/python3.10/site-packages (from torch) (12.6.80)\n",
      "Requirement already satisfied: nvidia-cudnn-cu12==9.5.1.17 in ./.venv/lib/python3.10/site-packages (from torch) (9.5.1.17)\n",
      "Requirement already satisfied: nvidia-cublas-cu12==12.6.4.1 in ./.venv/lib/python3.10/site-packages (from torch) (12.6.4.1)\n",
      "Requirement already satisfied: nvidia-cufft-cu12==11.3.0.4 in ./.venv/lib/python3.10/site-packages (from torch) (11.3.0.4)\n",
      "Requirement already satisfied: nvidia-curand-cu12==10.3.7.77 in ./.venv/lib/python3.10/site-packages (from torch) (10.3.7.77)\n",
      "Requirement already satisfied: nvidia-cusolver-cu12==11.7.1.2 in ./.venv/lib/python3.10/site-packages (from torch) (11.7.1.2)\n",
      "Requirement already satisfied: nvidia-cusparse-cu12==12.5.4.2 in ./.venv/lib/python3.10/site-packages (from torch) (12.5.4.2)\n",
      "Requirement already satisfied: nvidia-cusparselt-cu12==0.6.3 in ./.venv/lib/python3.10/site-packages (from torch) (0.6.3)\n",
      "Requirement already satisfied: nvidia-nccl-cu12==2.26.2 in ./.venv/lib/python3.10/site-packages (from torch) (2.26.2)\n",
      "Requirement already satisfied: nvidia-nvtx-cu12==12.6.77 in ./.venv/lib/python3.10/site-packages (from torch) (12.6.77)\n",
      "Requirement already satisfied: nvidia-nvjitlink-cu12==12.6.85 in ./.venv/lib/python3.10/site-packages (from torch) (12.6.85)\n",
      "Requirement already satisfied: nvidia-cufile-cu12==1.11.1.6 in ./.venv/lib/python3.10/site-packages (from torch) (1.11.1.6)\n",
      "Requirement already satisfied: triton==3.3.0 in ./.venv/lib/python3.10/site-packages (from torch) (3.3.0)\n",
      "Requirement already satisfied: setuptools>=40.8.0 in ./.venv/lib/python3.10/site-packages (from triton==3.3.0->torch) (59.6.0)\n",
      "Requirement already satisfied: aiohttp in ./.venv/lib/python3.10/site-packages (from torch-geometric) (3.11.18)\n",
      "Requirement already satisfied: numpy in ./.venv/lib/python3.10/site-packages (from torch-geometric) (2.2.5)\n",
      "Requirement already satisfied: psutil>=5.8.0 in ./.venv/lib/python3.10/site-packages (from torch-geometric) (7.0.0)\n",
      "Requirement already satisfied: pyparsing in ./.venv/lib/python3.10/site-packages (from torch-geometric) (3.2.3)\n",
      "Requirement already satisfied: requests in ./.venv/lib/python3.10/site-packages (from torch-geometric) (2.32.3)\n",
      "Requirement already satisfied: tqdm in ./.venv/lib/python3.10/site-packages (from torch-geometric) (4.67.1)\n",
      "Requirement already satisfied: mpmath<1.4,>=1.1.0 in ./.venv/lib/python3.10/site-packages (from sympy>=1.13.3->torch) (1.3.0)\n",
      "Requirement already satisfied: aiohappyeyeballs>=2.3.0 in ./.venv/lib/python3.10/site-packages (from aiohttp->torch-geometric) (2.6.1)\n",
      "Requirement already satisfied: aiosignal>=1.1.2 in ./.venv/lib/python3.10/site-packages (from aiohttp->torch-geometric) (1.3.2)\n",
      "Requirement already satisfied: async-timeout<6.0,>=4.0 in ./.venv/lib/python3.10/site-packages (from aiohttp->torch-geometric) (5.0.1)\n",
      "Requirement already satisfied: attrs>=17.3.0 in ./.venv/lib/python3.10/site-packages (from aiohttp->torch-geometric) (25.3.0)\n",
      "Requirement already satisfied: frozenlist>=1.1.1 in ./.venv/lib/python3.10/site-packages (from aiohttp->torch-geometric) (1.6.0)\n",
      "Requirement already satisfied: multidict<7.0,>=4.5 in ./.venv/lib/python3.10/site-packages (from aiohttp->torch-geometric) (6.4.3)\n",
      "Requirement already satisfied: propcache>=0.2.0 in ./.venv/lib/python3.10/site-packages (from aiohttp->torch-geometric) (0.3.1)\n",
      "Requirement already satisfied: yarl<2.0,>=1.17.0 in ./.venv/lib/python3.10/site-packages (from aiohttp->torch-geometric) (1.20.0)\n",
      "Requirement already satisfied: idna>=2.0 in ./.venv/lib/python3.10/site-packages (from yarl<2.0,>=1.17.0->aiohttp->torch-geometric) (3.10)\n",
      "Requirement already satisfied: MarkupSafe>=2.0 in ./.venv/lib/python3.10/site-packages (from jinja2->torch) (3.0.2)\n",
      "Requirement already satisfied: charset-normalizer<4,>=2 in ./.venv/lib/python3.10/site-packages (from requests->torch-geometric) (3.4.2)\n",
      "Requirement already satisfied: urllib3<3,>=1.21.1 in ./.venv/lib/python3.10/site-packages (from requests->torch-geometric) (2.4.0)\n",
      "Requirement already satisfied: certifi>=2017.4.17 in ./.venv/lib/python3.10/site-packages (from requests->torch-geometric) (2025.4.26)\n",
      "Note: you may need to restart the kernel to use updated packages.\n",
      "Collecting pandas\n",
      "  Downloading pandas-2.2.3-cp310-cp310-manylinux_2_17_x86_64.manylinux2014_x86_64.whl.metadata (89 kB)\n",
      "Requirement already satisfied: numpy>=1.22.4 in ./.venv/lib/python3.10/site-packages (from pandas) (2.2.5)\n",
      "Requirement already satisfied: python-dateutil>=2.8.2 in ./.venv/lib/python3.10/site-packages (from pandas) (2.9.0.post0)\n",
      "Collecting pytz>=2020.1 (from pandas)\n",
      "  Downloading pytz-2025.2-py2.py3-none-any.whl.metadata (22 kB)\n",
      "Collecting tzdata>=2022.7 (from pandas)\n",
      "  Downloading tzdata-2025.2-py2.py3-none-any.whl.metadata (1.4 kB)\n",
      "Requirement already satisfied: six>=1.5 in ./.venv/lib/python3.10/site-packages (from python-dateutil>=2.8.2->pandas) (1.17.0)\n",
      "Downloading pandas-2.2.3-cp310-cp310-manylinux_2_17_x86_64.manylinux2014_x86_64.whl (13.1 MB)\n",
      "\u001b[2K   \u001b[90m━━━━━━━━━━━━━━━━━━━━━━━━━━━━━━━━━━━━━━━━\u001b[0m \u001b[32m13.1/13.1 MB\u001b[0m \u001b[31m3.1 MB/s\u001b[0m eta \u001b[36m0:00:00\u001b[0ma \u001b[36m0:00:01\u001b[0m\n",
      "\u001b[?25hDownloading pytz-2025.2-py2.py3-none-any.whl (509 kB)\n",
      "Downloading tzdata-2025.2-py2.py3-none-any.whl (347 kB)\n",
      "Installing collected packages: pytz, tzdata, pandas\n",
      "\u001b[2K   \u001b[90m━━━━━━━━━━━━━━━━━━━━━━━━━━━━━━━━━━━━━━━━\u001b[0m \u001b[32m3/3\u001b[0m [pandas]2m2/3\u001b[0m [pandas]\n",
      "\u001b[1A\u001b[2KSuccessfully installed pandas-2.2.3 pytz-2025.2 tzdata-2025.2\n",
      "Note: you may need to restart the kernel to use updated packages.\n"
     ]
    }
   ],
   "source": [
    "%pip install torch torch-geometric\n",
    "%pip install pandas"
   ]
  },
  {
   "cell_type": "code",
   "execution_count": null,
   "id": "e22f5582",
   "metadata": {},
   "outputs": [
    {
     "ename": "KeyboardInterrupt",
     "evalue": "",
     "output_type": "error",
     "traceback": [
      "\u001b[0;31m---------------------------------------------------------------------------\u001b[0m",
      "\u001b[0;31mKeyboardInterrupt\u001b[0m                         Traceback (most recent call last)",
      "Cell \u001b[0;32mIn[13], line 4\u001b[0m\n\u001b[1;32m      1\u001b[0m \u001b[38;5;28;01mimport\u001b[39;00m\u001b[38;5;250m \u001b[39m\u001b[38;5;21;01mpandas\u001b[39;00m\u001b[38;5;250m \u001b[39m\u001b[38;5;28;01mas\u001b[39;00m\u001b[38;5;250m \u001b[39m\u001b[38;5;21;01mpd\u001b[39;00m\n\u001b[1;32m      3\u001b[0m genuine_users \u001b[38;5;241m=\u001b[39m pd\u001b[38;5;241m.\u001b[39mread_csv(\u001b[38;5;124m'\u001b[39m\u001b[38;5;124mcresci-2017/genuine_accounts/users.csv\u001b[39m\u001b[38;5;124m'\u001b[39m, encoding_errors\u001b[38;5;241m=\u001b[39m\u001b[38;5;124m'\u001b[39m\u001b[38;5;124mreplace\u001b[39m\u001b[38;5;124m'\u001b[39m)\n\u001b[0;32m----> 4\u001b[0m genuine_tweets \u001b[38;5;241m=\u001b[39m \u001b[43mpd\u001b[49m\u001b[38;5;241;43m.\u001b[39;49m\u001b[43mread_csv\u001b[49m\u001b[43m(\u001b[49m\u001b[38;5;124;43m'\u001b[39;49m\u001b[38;5;124;43mcresci-2017/genuine_accounts/tweets.csv\u001b[39;49m\u001b[38;5;124;43m'\u001b[39;49m\u001b[43m,\u001b[49m\u001b[43m \u001b[49m\u001b[43mencoding_errors\u001b[49m\u001b[38;5;241;43m=\u001b[39;49m\u001b[38;5;124;43m'\u001b[39;49m\u001b[38;5;124;43mreplace\u001b[39;49m\u001b[38;5;124;43m'\u001b[39;49m\u001b[43m)\u001b[49m\n\u001b[1;32m      5\u001b[0m social_spam_users_1 \u001b[38;5;241m=\u001b[39m pd\u001b[38;5;241m.\u001b[39mread_csv(\u001b[38;5;124m'\u001b[39m\u001b[38;5;124mcresci-2017/social_spambots_1/users.csv\u001b[39m\u001b[38;5;124m'\u001b[39m, encoding_errors\u001b[38;5;241m=\u001b[39m\u001b[38;5;124m'\u001b[39m\u001b[38;5;124mreplace\u001b[39m\u001b[38;5;124m'\u001b[39m)\n\u001b[1;32m      6\u001b[0m social_spam_tweets_1 \u001b[38;5;241m=\u001b[39m pd\u001b[38;5;241m.\u001b[39mread_csv(\u001b[38;5;124m'\u001b[39m\u001b[38;5;124mcresci-2017/social_spambots_1/tweets.csv\u001b[39m\u001b[38;5;124m'\u001b[39m, encoding_errors\u001b[38;5;241m=\u001b[39m\u001b[38;5;124m'\u001b[39m\u001b[38;5;124mreplace\u001b[39m\u001b[38;5;124m'\u001b[39m)\n",
      "File \u001b[0;32m~/umd/cmsc396Hspring25/cmsc396h-project/.venv/lib/python3.10/site-packages/pandas/io/parsers/readers.py:1026\u001b[0m, in \u001b[0;36mread_csv\u001b[0;34m(filepath_or_buffer, sep, delimiter, header, names, index_col, usecols, dtype, engine, converters, true_values, false_values, skipinitialspace, skiprows, skipfooter, nrows, na_values, keep_default_na, na_filter, verbose, skip_blank_lines, parse_dates, infer_datetime_format, keep_date_col, date_parser, date_format, dayfirst, cache_dates, iterator, chunksize, compression, thousands, decimal, lineterminator, quotechar, quoting, doublequote, escapechar, comment, encoding, encoding_errors, dialect, on_bad_lines, delim_whitespace, low_memory, memory_map, float_precision, storage_options, dtype_backend)\u001b[0m\n\u001b[1;32m   1013\u001b[0m kwds_defaults \u001b[38;5;241m=\u001b[39m _refine_defaults_read(\n\u001b[1;32m   1014\u001b[0m     dialect,\n\u001b[1;32m   1015\u001b[0m     delimiter,\n\u001b[0;32m   (...)\u001b[0m\n\u001b[1;32m   1022\u001b[0m     dtype_backend\u001b[38;5;241m=\u001b[39mdtype_backend,\n\u001b[1;32m   1023\u001b[0m )\n\u001b[1;32m   1024\u001b[0m kwds\u001b[38;5;241m.\u001b[39mupdate(kwds_defaults)\n\u001b[0;32m-> 1026\u001b[0m \u001b[38;5;28;01mreturn\u001b[39;00m \u001b[43m_read\u001b[49m\u001b[43m(\u001b[49m\u001b[43mfilepath_or_buffer\u001b[49m\u001b[43m,\u001b[49m\u001b[43m \u001b[49m\u001b[43mkwds\u001b[49m\u001b[43m)\u001b[49m\n",
      "File \u001b[0;32m~/umd/cmsc396Hspring25/cmsc396h-project/.venv/lib/python3.10/site-packages/pandas/io/parsers/readers.py:626\u001b[0m, in \u001b[0;36m_read\u001b[0;34m(filepath_or_buffer, kwds)\u001b[0m\n\u001b[1;32m    623\u001b[0m     \u001b[38;5;28;01mreturn\u001b[39;00m parser\n\u001b[1;32m    625\u001b[0m \u001b[38;5;28;01mwith\u001b[39;00m parser:\n\u001b[0;32m--> 626\u001b[0m     \u001b[38;5;28;01mreturn\u001b[39;00m \u001b[43mparser\u001b[49m\u001b[38;5;241;43m.\u001b[39;49m\u001b[43mread\u001b[49m\u001b[43m(\u001b[49m\u001b[43mnrows\u001b[49m\u001b[43m)\u001b[49m\n",
      "File \u001b[0;32m~/umd/cmsc396Hspring25/cmsc396h-project/.venv/lib/python3.10/site-packages/pandas/io/parsers/readers.py:1923\u001b[0m, in \u001b[0;36mTextFileReader.read\u001b[0;34m(self, nrows)\u001b[0m\n\u001b[1;32m   1916\u001b[0m nrows \u001b[38;5;241m=\u001b[39m validate_integer(\u001b[38;5;124m\"\u001b[39m\u001b[38;5;124mnrows\u001b[39m\u001b[38;5;124m\"\u001b[39m, nrows)\n\u001b[1;32m   1917\u001b[0m \u001b[38;5;28;01mtry\u001b[39;00m:\n\u001b[1;32m   1918\u001b[0m     \u001b[38;5;66;03m# error: \"ParserBase\" has no attribute \"read\"\u001b[39;00m\n\u001b[1;32m   1919\u001b[0m     (\n\u001b[1;32m   1920\u001b[0m         index,\n\u001b[1;32m   1921\u001b[0m         columns,\n\u001b[1;32m   1922\u001b[0m         col_dict,\n\u001b[0;32m-> 1923\u001b[0m     ) \u001b[38;5;241m=\u001b[39m \u001b[38;5;28;43mself\u001b[39;49m\u001b[38;5;241;43m.\u001b[39;49m\u001b[43m_engine\u001b[49m\u001b[38;5;241;43m.\u001b[39;49m\u001b[43mread\u001b[49m\u001b[43m(\u001b[49m\u001b[43m  \u001b[49m\u001b[38;5;66;43;03m# type: ignore[attr-defined]\u001b[39;49;00m\n\u001b[1;32m   1924\u001b[0m \u001b[43m        \u001b[49m\u001b[43mnrows\u001b[49m\n\u001b[1;32m   1925\u001b[0m \u001b[43m    \u001b[49m\u001b[43m)\u001b[49m\n\u001b[1;32m   1926\u001b[0m \u001b[38;5;28;01mexcept\u001b[39;00m \u001b[38;5;167;01mException\u001b[39;00m:\n\u001b[1;32m   1927\u001b[0m     \u001b[38;5;28mself\u001b[39m\u001b[38;5;241m.\u001b[39mclose()\n",
      "File \u001b[0;32m~/umd/cmsc396Hspring25/cmsc396h-project/.venv/lib/python3.10/site-packages/pandas/io/parsers/c_parser_wrapper.py:234\u001b[0m, in \u001b[0;36mCParserWrapper.read\u001b[0;34m(self, nrows)\u001b[0m\n\u001b[1;32m    232\u001b[0m \u001b[38;5;28;01mtry\u001b[39;00m:\n\u001b[1;32m    233\u001b[0m     \u001b[38;5;28;01mif\u001b[39;00m \u001b[38;5;28mself\u001b[39m\u001b[38;5;241m.\u001b[39mlow_memory:\n\u001b[0;32m--> 234\u001b[0m         chunks \u001b[38;5;241m=\u001b[39m \u001b[38;5;28;43mself\u001b[39;49m\u001b[38;5;241;43m.\u001b[39;49m\u001b[43m_reader\u001b[49m\u001b[38;5;241;43m.\u001b[39;49m\u001b[43mread_low_memory\u001b[49m\u001b[43m(\u001b[49m\u001b[43mnrows\u001b[49m\u001b[43m)\u001b[49m\n\u001b[1;32m    235\u001b[0m         \u001b[38;5;66;03m# destructive to chunks\u001b[39;00m\n\u001b[1;32m    236\u001b[0m         data \u001b[38;5;241m=\u001b[39m _concatenate_chunks(chunks)\n",
      "File \u001b[0;32mparsers.pyx:838\u001b[0m, in \u001b[0;36mpandas._libs.parsers.TextReader.read_low_memory\u001b[0;34m()\u001b[0m\n",
      "File \u001b[0;32mparsers.pyx:921\u001b[0m, in \u001b[0;36mpandas._libs.parsers.TextReader._read_rows\u001b[0;34m()\u001b[0m\n",
      "File \u001b[0;32mparsers.pyx:1083\u001b[0m, in \u001b[0;36mpandas._libs.parsers.TextReader._convert_column_data\u001b[0;34m()\u001b[0m\n",
      "File \u001b[0;32mparsers.pyx:1456\u001b[0m, in \u001b[0;36mpandas._libs.parsers._maybe_upcast\u001b[0;34m()\u001b[0m\n",
      "File \u001b[0;32m~/umd/cmsc396Hspring25/cmsc396h-project/.venv/lib/python3.10/site-packages/numpy/_core/multiarray.py:1148\u001b[0m, in \u001b[0;36mputmask\u001b[0;34m(a, mask, values)\u001b[0m\n\u001b[1;32m   1100\u001b[0m \u001b[38;5;250m    \u001b[39m\u001b[38;5;124;03m\"\"\"\u001b[39;00m\n\u001b[1;32m   1101\u001b[0m \u001b[38;5;124;03m    copyto(dst, src, casting='same_kind', where=True)\u001b[39;00m\n\u001b[1;32m   1102\u001b[0m \n\u001b[0;32m   (...)\u001b[0m\n\u001b[1;32m   1143\u001b[0m \n\u001b[1;32m   1144\u001b[0m \u001b[38;5;124;03m    \"\"\"\u001b[39;00m\n\u001b[1;32m   1145\u001b[0m     \u001b[38;5;28;01mreturn\u001b[39;00m (dst, src, where)\n\u001b[0;32m-> 1148\u001b[0m \u001b[38;5;129m@array_function_from_c_func_and_dispatcher\u001b[39m(_multiarray_umath\u001b[38;5;241m.\u001b[39mputmask)\n\u001b[1;32m   1149\u001b[0m \u001b[38;5;28;01mdef\u001b[39;00m\u001b[38;5;250m \u001b[39m\u001b[38;5;21mputmask\u001b[39m(a, \u001b[38;5;241m/\u001b[39m, mask, values):\n\u001b[1;32m   1150\u001b[0m \u001b[38;5;250m    \u001b[39m\u001b[38;5;124;03m\"\"\"\u001b[39;00m\n\u001b[1;32m   1151\u001b[0m \u001b[38;5;124;03m    putmask(a, mask, values)\u001b[39;00m\n\u001b[1;32m   1152\u001b[0m \n\u001b[0;32m   (...)\u001b[0m\n\u001b[1;32m   1189\u001b[0m \n\u001b[1;32m   1190\u001b[0m \u001b[38;5;124;03m    \"\"\"\u001b[39;00m\n\u001b[1;32m   1191\u001b[0m     \u001b[38;5;28;01mreturn\u001b[39;00m (a, mask, values)\n",
      "\u001b[0;31mKeyboardInterrupt\u001b[0m: "
     ]
    }
   ],
   "source": [
    "import pandas as pd\n",
    "\n",
    "genuine_users = pd.read_csv('cresci-2017/genuine_accounts/users.csv', encoding_errors='replace')\n",
    "genuine_tweets = pd.read_csv('cresci-2017/genuine_accounts/tweets.csv', encoding_errors='replace')\n",
    "social_spam_users_1 = pd.read_csv('cresci-2017/social_spambots_1/users.csv', encoding_errors='replace')\n",
    "social_spam_tweets_1 = pd.read_csv('cresci-2017/social_spambots_1/tweets.csv', encoding_errors='replace')\n",
    "social_spam_users_2 = pd.read_csv('cresci-2017/social_spambots_2/users.csv', encoding_errors='replace')\n",
    "social_spam_tweets_2 = pd.read_csv('cresci-2017/social_spambots_2/tweets.csv', encoding_errors='replace')\n",
    "social_spam_users_3 = pd.read_csv('cresci-2017/social_spambots_3/users.csv', encoding_errors='replace')\n",
    "social_spam_tweets_3 = pd.read_csv('cresci-2017/social_spambots_3/tweets.csv', encoding_errors='replace')\n",
    "traditional_spam_users = pd.read_csv('cresci-2017/traditional_spambots_1/users.csv', encoding_errors='replace')\n",
    "traditional_spam_tweets = pd.read_csv('cresci-2017/traditional_spambots_1/tweets.csv', encoding_errors='replace')\n",
    "fake_follower_users = pd.read_csv('cresci-2017/fake_followers/users.csv', encoding_errors='replace')\n",
    "fake_follower_tweets = pd.read_csv('cresci-2017/fake_followers/tweets.csv', encoding_errors='replace')\n",
    "\n",
    "# example of getting only reply tweets\n",
    "filtered_genuine_tweeets = genuine_tweets[genuine_tweets['in_reply_to_user_id'] != 0.0]\n",
    "\n",
    "print(genuine_users.head())\n",
    "print(social_spam_users_1.head())\n",
    "print(filtered_genuine_tweeets.head())"
   ]
  },
  {
   "cell_type": "code",
   "execution_count": 20,
   "id": "b3e5fb73",
   "metadata": {},
   "outputs": [],
   "source": [
    "import torch\n",
    "from torch_geometric.data import Data\n",
    "from torch_geometric.nn import GCNConv\n",
    "import torch.nn.functional as F\n",
    "import numpy as np\n",
    "\n",
    "# Sample graph with 5 nodes\n",
    "edge_index = torch.tensor([[0, 1, 2, 3, 4, 1],\n",
    "                           [1, 0, 3, 2, 1, 4]], dtype=torch.long)  # directed\n",
    "\n",
    "# Node features: tweet frequency, URL presence, hashtag density, etc.\n",
    "x = torch.tensor([\n",
    "    [0.7, 1.0, 0.5, 0.8],  # user 0\n",
    "    [0.2, 0.0, 0.1, 0.4],  # user 1\n",
    "    [0.9, 1.0, 0.6, 0.7],  # user 2\n",
    "    [0.1, 0.0, 0.2, 0.3],  # user 3\n",
    "    [0.8, 1.0, 0.4, 0.9],  # user 4\n",
    "], dtype=torch.float)\n",
    "\n",
    "# Labels: 1 = bot, 0 = human\n",
    "y = torch.tensor([1, 0, 1, 0, 1], dtype=torch.long)\n",
    "\n",
    "# Use a basic graph object\n",
    "data = Data(x=x, edge_index=edge_index, y=y)\n"
   ]
  },
  {
   "cell_type": "markdown",
   "id": "0e19c713",
   "metadata": {},
   "source": [
    "GNN model\n"
   ]
  },
  {
   "cell_type": "code",
   "execution_count": 46,
   "id": "6f690691",
   "metadata": {},
   "outputs": [],
   "source": [
    "from torch.nn import Linear\n",
    "\n",
    "class BotClassifier(torch.nn.Module):\n",
    "    def __init__(self, input_dim, hidden_dim, output_dim):\n",
    "        super().__init__()\n",
    "        self.conv1 = GCNConv(input_dim, hidden_dim)\n",
    "        self.conv2 = GCNConv(hidden_dim, hidden_dim)\n",
    "        self.lin = Linear(hidden_dim, output_dim)\n",
    "\n",
    "    def forward(self, data):\n",
    "        x, edge_index = data.x, data.edge_index\n",
    "        x = F.relu(self.conv1(x, edge_index))\n",
    "        x = F.relu(self.conv2(x, edge_index))\n",
    "        x = self.lin(x)\n",
    "        return x\n"
   ]
  },
  {
   "cell_type": "markdown",
   "id": "787260a5",
   "metadata": {},
   "source": [
    "Reinfrocement learning"
   ]
  },
  {
   "cell_type": "code",
   "execution_count": null,
   "id": "77e39fe2",
   "metadata": {},
   "outputs": [
    {
     "name": "stdout",
     "output_type": "stream",
     "text": [
      "Epoch 0, Loss: 0.6980, Acc: 0.40, Reward: -0.10\n",
      "Epoch 10, Loss: 0.6765, Acc: 0.60, Reward: 0.10\n",
      "Epoch 20, Loss: 0.6749, Acc: 0.60, Reward: 0.10\n",
      "Epoch 30, Loss: 0.6732, Acc: 0.60, Reward: 0.10\n",
      "Epoch 40, Loss: 0.6713, Acc: 0.60, Reward: 0.10\n",
      "Epoch 50, Loss: 0.6695, Acc: 0.60, Reward: 0.10\n",
      "Epoch 60, Loss: 0.6658, Acc: 0.60, Reward: 0.10\n",
      "Epoch 70, Loss: 0.6575, Acc: 0.60, Reward: 0.10\n",
      "Epoch 80, Loss: 0.6416, Acc: 0.60, Reward: 0.10\n",
      "Epoch 90, Loss: 0.6155, Acc: 0.60, Reward: 0.10\n",
      "Epoch 100, Loss: 0.5779, Acc: 0.60, Reward: 0.10\n",
      "Epoch 110, Loss: 0.5325, Acc: 0.80, Reward: 0.30\n",
      "Epoch 120, Loss: 0.4833, Acc: 0.80, Reward: 0.30\n",
      "Epoch 130, Loss: 0.4376, Acc: 0.80, Reward: 0.30\n",
      "Epoch 140, Loss: 0.3986, Acc: 0.80, Reward: 0.30\n",
      "Epoch 150, Loss: 0.3676, Acc: 0.80, Reward: 0.30\n",
      "Epoch 160, Loss: 0.3448, Acc: 0.80, Reward: 0.30\n",
      "Epoch 170, Loss: 0.3283, Acc: 0.80, Reward: 0.30\n",
      "Epoch 180, Loss: 0.3169, Acc: 0.80, Reward: 0.30\n",
      "Epoch 190, Loss: 0.3099, Acc: 0.80, Reward: 0.30\n",
      "Epoch 200, Loss: 0.3038, Acc: 0.80, Reward: 0.30\n",
      "Epoch 210, Loss: 0.3001, Acc: 0.80, Reward: 0.30\n",
      "Epoch 220, Loss: 0.2968, Acc: 0.80, Reward: 0.30\n",
      "Epoch 230, Loss: 0.2943, Acc: 0.80, Reward: 0.30\n",
      "Epoch 240, Loss: 0.2922, Acc: 0.80, Reward: 0.30\n",
      "Epoch 250, Loss: 0.2906, Acc: 0.80, Reward: 0.30\n",
      "Epoch 260, Loss: 0.2892, Acc: 0.80, Reward: 0.30\n",
      "Epoch 270, Loss: 0.2880, Acc: 0.80, Reward: 0.30\n",
      "Epoch 280, Loss: 0.2870, Acc: 0.80, Reward: 0.30\n",
      "Epoch 290, Loss: 0.2861, Acc: 0.80, Reward: 0.30\n",
      "Epoch 300, Loss: 0.2852, Acc: 0.80, Reward: 0.30\n",
      "Epoch 310, Loss: 0.2848, Acc: 0.80, Reward: 0.30\n",
      "Epoch 320, Loss: 0.2844, Acc: 0.80, Reward: 0.30\n",
      "Epoch 330, Loss: 0.2835, Acc: 0.80, Reward: 0.30\n",
      "Epoch 340, Loss: 0.2830, Acc: 0.80, Reward: 0.30\n",
      "Epoch 350, Loss: 0.2825, Acc: 0.80, Reward: 0.30\n",
      "Epoch 360, Loss: 0.2821, Acc: 0.80, Reward: 0.30\n",
      "Epoch 370, Loss: 0.2818, Acc: 0.80, Reward: 0.30\n",
      "Epoch 380, Loss: 0.2815, Acc: 0.80, Reward: 0.30\n",
      "Epoch 390, Loss: 0.2812, Acc: 0.80, Reward: 0.30\n",
      "Epoch 400, Loss: 0.2810, Acc: 0.80, Reward: 0.30\n",
      "Epoch 410, Loss: 0.2812, Acc: 0.80, Reward: 0.30\n",
      "Epoch 420, Loss: 0.2806, Acc: 0.80, Reward: 0.30\n",
      "Epoch 430, Loss: 0.2806, Acc: 0.80, Reward: 0.30\n",
      "Epoch 440, Loss: 0.2803, Acc: 0.80, Reward: 0.30\n",
      "Epoch 450, Loss: 0.2801, Acc: 0.80, Reward: 0.30\n",
      "Epoch 460, Loss: 0.2800, Acc: 0.80, Reward: 0.30\n",
      "Epoch 470, Loss: 0.2799, Acc: 0.80, Reward: 0.30\n",
      "Epoch 480, Loss: 0.2797, Acc: 0.80, Reward: 0.30\n",
      "Epoch 490, Loss: 0.2796, Acc: 0.80, Reward: 0.30\n"
     ]
    }
   ],
   "source": [
    "model = BotClassifier(input_dim=4, hidden_dim=8, output_dim=2)\n",
    "optimizer = torch.optim.Adam(model.parameters(), lr=0.01)\n",
    "\n",
    "def compute_reward(pred, y_true):\n",
    "    return (pred.argmax(dim=1) == y_true).float() * 1.0 - 0.5  # +1 or -0.5\n",
    "\n",
    "for epoch in range(100):\n",
    "    model.train()\n",
    "    optimizer.zero_grad()\n",
    "\n",
    "    out = model(data)\n",
    "    loss = F.cross_entropy(out, data.y)\n",
    "\n",
    "    # Simulate \"reward\" from environment\n",
    "    reward = compute_reward(out, data.y).mean()\n",
    "\n",
    "    # RL-inspired update: reward modulates loss\n",
    "    total_loss = loss - 0.01 * reward  # encourage higher reward\n",
    "    total_loss.backward()\n",
    "    optimizer.step()\n",
    "\n",
    "    if epoch % 10 == 0:\n",
    "        acc = (out.argmax(dim=1) == data.y).float().mean().item()\n",
    "        print(f\"Epoch {epoch}, Loss: {loss.item():.4f}, Acc: {acc:.2f}, Reward: {reward.item():.2f}\")\n"
   ]
  },
  {
   "cell_type": "code",
   "execution_count": 48,
   "id": "f5fbf1de",
   "metadata": {},
   "outputs": [
    {
     "name": "stdout",
     "output_type": "stream",
     "text": [
      "Predicted: [1, 0, 1, 1, 1]\n",
      "Actual:    [1, 0, 1, 0, 1]\n"
     ]
    }
   ],
   "source": [
    "model.eval()\n",
    "preds = model(data).argmax(dim=1)\n",
    "print(\"Predicted:\", preds.tolist())\n",
    "print(\"Actual:   \", data.y.tolist())\n"
   ]
  }
 ],
 "metadata": {
  "kernelspec": {
   "display_name": ".venv",
   "language": "python",
   "name": "python3"
  },
  "language_info": {
   "codemirror_mode": {
    "name": "ipython",
    "version": 3
   },
   "file_extension": ".py",
   "mimetype": "text/x-python",
   "name": "python",
   "nbconvert_exporter": "python",
   "pygments_lexer": "ipython3",
   "version": "3.10.12"
  }
 },
 "nbformat": 4,
 "nbformat_minor": 5
}
