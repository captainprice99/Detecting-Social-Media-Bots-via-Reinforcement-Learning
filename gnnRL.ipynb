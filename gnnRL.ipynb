{
 "cells": [
  {
   "cell_type": "code",
   "execution_count": 44,
   "id": "20d056d6",
   "metadata": {},
   "outputs": [],
   "source": [
    "#!pip install torch torch-geometric"
   ]
  },
  {
   "cell_type": "code",
   "execution_count": 45,
   "id": "b3e5fb73",
   "metadata": {},
   "outputs": [],
   "source": [
    "import torch\n",
    "from torch_geometric.data import Data\n",
    "from torch_geometric.nn import GCNConv\n",
    "import torch.nn.functional as F\n",
    "import numpy as np\n",
    "\n",
    "# Sample graph with 5 nodes\n",
    "edge_index = torch.tensor([[0, 1, 2, 3, 4, 1],\n",
    "                           [1, 0, 3, 2, 1, 4]], dtype=torch.long)  # directed\n",
    "\n",
    "# Node features: tweet frequency, URL presence, hashtag density, etc.\n",
    "x = torch.tensor([\n",
    "    [0.7, 1.0, 0.5, 0.8],  # user 0\n",
    "    [0.2, 0.0, 0.1, 0.4],  # user 1\n",
    "    [0.9, 1.0, 0.6, 0.7],  # user 2\n",
    "    [0.1, 0.0, 0.2, 0.3],  # user 3\n",
    "    [0.8, 1.0, 0.4, 0.9],  # user 4\n",
    "], dtype=torch.float)\n",
    "\n",
    "# Labels: 1 = bot, 0 = human\n",
    "y = torch.tensor([1, 0, 1, 0, 1], dtype=torch.long)\n",
    "\n",
    "# Use a basic graph object\n",
    "data = Data(x=x, edge_index=edge_index, y=y)\n"
   ]
  },
  {
   "cell_type": "markdown",
   "id": "0e19c713",
   "metadata": {},
   "source": [
    "GNN model\n"
   ]
  },
  {
   "cell_type": "code",
   "execution_count": 46,
   "id": "6f690691",
   "metadata": {},
   "outputs": [],
   "source": [
    "from torch.nn import Linear\n",
    "\n",
    "class BotClassifier(torch.nn.Module):\n",
    "    def __init__(self, input_dim, hidden_dim, output_dim):\n",
    "        super().__init__()\n",
    "        self.conv1 = GCNConv(input_dim, hidden_dim)\n",
    "        self.conv2 = GCNConv(hidden_dim, hidden_dim)\n",
    "        self.lin = Linear(hidden_dim, output_dim)\n",
    "\n",
    "    def forward(self, data):\n",
    "        x, edge_index = data.x, data.edge_index\n",
    "        x = F.relu(self.conv1(x, edge_index))\n",
    "        x = F.relu(self.conv2(x, edge_index))\n",
    "        x = self.lin(x)\n",
    "        return x\n"
   ]
  },
  {
   "cell_type": "markdown",
   "id": "787260a5",
   "metadata": {},
   "source": [
    "Reinfrocement learning"
   ]
  },
  {
   "cell_type": "code",
   "execution_count": null,
   "id": "77e39fe2",
   "metadata": {},
   "outputs": [
    {
     "name": "stdout",
     "output_type": "stream",
     "text": [
      "Epoch 0, Loss: 0.6980, Acc: 0.40, Reward: -0.10\n",
      "Epoch 10, Loss: 0.6765, Acc: 0.60, Reward: 0.10\n",
      "Epoch 20, Loss: 0.6749, Acc: 0.60, Reward: 0.10\n",
      "Epoch 30, Loss: 0.6732, Acc: 0.60, Reward: 0.10\n",
      "Epoch 40, Loss: 0.6713, Acc: 0.60, Reward: 0.10\n",
      "Epoch 50, Loss: 0.6695, Acc: 0.60, Reward: 0.10\n",
      "Epoch 60, Loss: 0.6658, Acc: 0.60, Reward: 0.10\n",
      "Epoch 70, Loss: 0.6575, Acc: 0.60, Reward: 0.10\n",
      "Epoch 80, Loss: 0.6416, Acc: 0.60, Reward: 0.10\n",
      "Epoch 90, Loss: 0.6155, Acc: 0.60, Reward: 0.10\n",
      "Epoch 100, Loss: 0.5779, Acc: 0.60, Reward: 0.10\n",
      "Epoch 110, Loss: 0.5325, Acc: 0.80, Reward: 0.30\n",
      "Epoch 120, Loss: 0.4833, Acc: 0.80, Reward: 0.30\n",
      "Epoch 130, Loss: 0.4376, Acc: 0.80, Reward: 0.30\n",
      "Epoch 140, Loss: 0.3986, Acc: 0.80, Reward: 0.30\n",
      "Epoch 150, Loss: 0.3676, Acc: 0.80, Reward: 0.30\n",
      "Epoch 160, Loss: 0.3448, Acc: 0.80, Reward: 0.30\n",
      "Epoch 170, Loss: 0.3283, Acc: 0.80, Reward: 0.30\n",
      "Epoch 180, Loss: 0.3169, Acc: 0.80, Reward: 0.30\n",
      "Epoch 190, Loss: 0.3099, Acc: 0.80, Reward: 0.30\n",
      "Epoch 200, Loss: 0.3038, Acc: 0.80, Reward: 0.30\n",
      "Epoch 210, Loss: 0.3001, Acc: 0.80, Reward: 0.30\n",
      "Epoch 220, Loss: 0.2968, Acc: 0.80, Reward: 0.30\n",
      "Epoch 230, Loss: 0.2943, Acc: 0.80, Reward: 0.30\n",
      "Epoch 240, Loss: 0.2922, Acc: 0.80, Reward: 0.30\n",
      "Epoch 250, Loss: 0.2906, Acc: 0.80, Reward: 0.30\n",
      "Epoch 260, Loss: 0.2892, Acc: 0.80, Reward: 0.30\n",
      "Epoch 270, Loss: 0.2880, Acc: 0.80, Reward: 0.30\n",
      "Epoch 280, Loss: 0.2870, Acc: 0.80, Reward: 0.30\n",
      "Epoch 290, Loss: 0.2861, Acc: 0.80, Reward: 0.30\n",
      "Epoch 300, Loss: 0.2852, Acc: 0.80, Reward: 0.30\n",
      "Epoch 310, Loss: 0.2848, Acc: 0.80, Reward: 0.30\n",
      "Epoch 320, Loss: 0.2844, Acc: 0.80, Reward: 0.30\n",
      "Epoch 330, Loss: 0.2835, Acc: 0.80, Reward: 0.30\n",
      "Epoch 340, Loss: 0.2830, Acc: 0.80, Reward: 0.30\n",
      "Epoch 350, Loss: 0.2825, Acc: 0.80, Reward: 0.30\n",
      "Epoch 360, Loss: 0.2821, Acc: 0.80, Reward: 0.30\n",
      "Epoch 370, Loss: 0.2818, Acc: 0.80, Reward: 0.30\n",
      "Epoch 380, Loss: 0.2815, Acc: 0.80, Reward: 0.30\n",
      "Epoch 390, Loss: 0.2812, Acc: 0.80, Reward: 0.30\n",
      "Epoch 400, Loss: 0.2810, Acc: 0.80, Reward: 0.30\n",
      "Epoch 410, Loss: 0.2812, Acc: 0.80, Reward: 0.30\n",
      "Epoch 420, Loss: 0.2806, Acc: 0.80, Reward: 0.30\n",
      "Epoch 430, Loss: 0.2806, Acc: 0.80, Reward: 0.30\n",
      "Epoch 440, Loss: 0.2803, Acc: 0.80, Reward: 0.30\n",
      "Epoch 450, Loss: 0.2801, Acc: 0.80, Reward: 0.30\n",
      "Epoch 460, Loss: 0.2800, Acc: 0.80, Reward: 0.30\n",
      "Epoch 470, Loss: 0.2799, Acc: 0.80, Reward: 0.30\n",
      "Epoch 480, Loss: 0.2797, Acc: 0.80, Reward: 0.30\n",
      "Epoch 490, Loss: 0.2796, Acc: 0.80, Reward: 0.30\n"
     ]
    }
   ],
   "source": [
    "model = BotClassifier(input_dim=4, hidden_dim=8, output_dim=2)\n",
    "optimizer = torch.optim.Adam(model.parameters(), lr=0.01)\n",
    "\n",
    "def compute_reward(pred, y_true):\n",
    "    return (pred.argmax(dim=1) == y_true).float() * 1.0 - 0.5  # +1 or -0.5\n",
    "\n",
    "for epoch in range(100):\n",
    "    model.train()\n",
    "    optimizer.zero_grad()\n",
    "\n",
    "    out = model(data)\n",
    "    loss = F.cross_entropy(out, data.y)\n",
    "\n",
    "    # Simulate \"reward\" from environment\n",
    "    reward = compute_reward(out, data.y).mean()\n",
    "\n",
    "    # RL-inspired update: reward modulates loss\n",
    "    total_loss = loss - 0.01 * reward  # encourage higher reward\n",
    "    total_loss.backward()\n",
    "    optimizer.step()\n",
    "\n",
    "    if epoch % 10 == 0:\n",
    "        acc = (out.argmax(dim=1) == data.y).float().mean().item()\n",
    "        print(f\"Epoch {epoch}, Loss: {loss.item():.4f}, Acc: {acc:.2f}, Reward: {reward.item():.2f}\")\n"
   ]
  },
  {
   "cell_type": "code",
   "execution_count": 48,
   "id": "f5fbf1de",
   "metadata": {},
   "outputs": [
    {
     "name": "stdout",
     "output_type": "stream",
     "text": [
      "Predicted: [1, 0, 1, 1, 1]\n",
      "Actual:    [1, 0, 1, 0, 1]\n"
     ]
    }
   ],
   "source": [
    "model.eval()\n",
    "preds = model(data).argmax(dim=1)\n",
    "print(\"Predicted:\", preds.tolist())\n",
    "print(\"Actual:   \", data.y.tolist())\n"
   ]
  }
 ],
 "metadata": {
  "kernelspec": {
   "display_name": "base",
   "language": "python",
   "name": "python3"
  },
  "language_info": {
   "codemirror_mode": {
    "name": "ipython",
    "version": 3
   },
   "file_extension": ".py",
   "mimetype": "text/x-python",
   "name": "python",
   "nbconvert_exporter": "python",
   "pygments_lexer": "ipython3",
   "version": "3.9.13"
  }
 },
 "nbformat": 4,
 "nbformat_minor": 5
}
